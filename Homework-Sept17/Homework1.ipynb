{
 "cells": [
  {
   "cell_type": "code",
   "execution_count": null,
   "id": "5cc0a22a-014f-4e8f-aaad-ee49ff3122c7",
   "metadata": {
    "scrolled": true
   },
   "outputs": [],
   "source": [
    "from math import cos, radians, sqrt #импортируем из библиотеки math необходимые нам функции (косинус, перевод в радианы и квадратный корень)\n",
    "def theocos(a, b, X): #задаём функцию на основе трёх переменных\n",
    "    if  X<0 or X>180:\n",
    "        return(\"Неверный угол.\")\n",
    "    else:\n",
    "        X = radians(X) #переводим градусное значение в радианы\n",
    "        return(f\"Третья сторона треугольника равна {round(sqrt(a**2 + b**2 - 2*a*b*cos(X)), 3)}.\") #возвращаем округлённый результат с 3 цифрами после запятой, если число дробное\n",
    "\n",
    "a = int(input(\"Введите длину первой стороны треугольника. \"))\n",
    "b = int(input(\"Введите длину второй стороны треугольника. \"))\n",
    "X = int(input(\"Введите градусное значение угла между этими сторонами. \"))\n",
    "print(theocos(a,b,X))"
   ]
  },
  {
   "cell_type": "markdown",
   "id": "e4a32916-dfbe-4317-80d1-14ecebd9fb3d",
   "metadata": {},
   "source": [
    "***Пример работы программы:***"
   ]
  },
  {
   "cell_type": "raw",
   "id": "b18f67b8-b0f3-4004-8e65-01637b76155b",
   "metadata": {},
   "source": [
    "Введите длину первой стороны треугольника: 13\n",
    "Введите длину второй стороны треугольника: 29\n",
    "Введите градусное значение угла между этими сторонами: 73\n",
    "Третья сторона треугольника равна 28.099."
   ]
  },
  {
   "cell_type": "raw",
   "id": "e1da645a-2f30-410b-b328-413bef202412",
   "metadata": {},
   "source": [
    "Введите длину первой стороны треугольника.  13\n",
    "Введите длину второй стороны треугольника.  29\n",
    "Введите градусное значение угла между этими сторонами.  -10\n",
    "Неверный угол."
   ]
  }
 ],
 "metadata": {
  "kernelspec": {
   "display_name": "Python 3 (ipykernel)",
   "language": "python",
   "name": "python3"
  },
  "language_info": {
   "codemirror_mode": {
    "name": "ipython",
    "version": 3
   },
   "file_extension": ".py",
   "mimetype": "text/x-python",
   "name": "python",
   "nbconvert_exporter": "python",
   "pygments_lexer": "ipython3",
   "version": "3.12.4"
  }
 },
 "nbformat": 4,
 "nbformat_minor": 5
}
